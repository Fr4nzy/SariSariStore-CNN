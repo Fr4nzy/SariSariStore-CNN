{
 "cells": [
  {
   "cell_type": "code",
   "execution_count": 1,
   "id": "f3f6bcad",
   "metadata": {},
   "outputs": [],
   "source": [
    "import tensorflow as tf"
   ]
  },
  {
   "cell_type": "code",
   "execution_count": 2,
   "id": "6a44557d",
   "metadata": {},
   "outputs": [],
   "source": [
    "model_path = r\"C:\\Users\\mzowe\\Documents\\SSSDataSets\\ImageCNN\\scripts\\ProductsDatasets.keras\"\n",
    "model = tf.keras.models.load_model(model_path)"
   ]
  },
  {
   "cell_type": "code",
   "execution_count": 4,
   "id": "ec9c2fce",
   "metadata": {},
   "outputs": [
    {
     "name": "stdout",
     "output_type": "stream",
     "text": [
      "INFO:tensorflow:Assets written to: C:\\Users\\mzowe\\AppData\\Local\\Temp\\tmpt1ji3axh\\assets\n"
     ]
    },
    {
     "name": "stderr",
     "output_type": "stream",
     "text": [
      "INFO:tensorflow:Assets written to: C:\\Users\\mzowe\\AppData\\Local\\Temp\\tmpt1ji3axh\\assets\n"
     ]
    },
    {
     "name": "stdout",
     "output_type": "stream",
     "text": [
      "TFLite Model Saved to: C:/Users/mzowe/Documents/SSSDataSets/ImageCNN/scripts/model_sssproducts.tflite\n"
     ]
    }
   ],
   "source": [
    "# Convert the Keras model to TFLite\n",
    "converter = tf.lite.TFLiteConverter.from_keras_model(model)\n",
    "tflite_model = converter.convert()\n",
    "\n",
    "# Specify the file path for the TFLite model\n",
    "tflite_model_path = 'C:/Users/mzowe/Documents/SSSDataSets/ImageCNN/scripts/model_sssproducts.tflite'  # Replace with your desired path\n",
    "\n",
    "# Save the TFLite model to a file\n",
    "with open(tflite_model_path, 'wb') as f:\n",
    "    f.write(tflite_model)\n",
    "\n",
    "print(\"TFLite Model Saved to:\", tflite_model_path)"
   ]
  },
  {
   "cell_type": "code",
   "execution_count": null,
   "id": "a026103b",
   "metadata": {},
   "outputs": [],
   "source": []
  }
 ],
 "metadata": {
  "kernelspec": {
   "display_name": "Python 3 (ipykernel)",
   "language": "python",
   "name": "python3"
  },
  "language_info": {
   "codemirror_mode": {
    "name": "ipython",
    "version": 3
   },
   "file_extension": ".py",
   "mimetype": "text/x-python",
   "name": "python",
   "nbconvert_exporter": "python",
   "pygments_lexer": "ipython3",
   "version": "3.11.5"
  }
 },
 "nbformat": 4,
 "nbformat_minor": 5
}
